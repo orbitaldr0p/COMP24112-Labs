{
 "cells": [
  {
   "cell_type": "markdown",
   "metadata": {},
   "source": [
    "# COMP24112 Summative Exercise: Air Quality Analysis (30 Marks)\n",
    "\n",
    "This lab exercise is about air quality analysis, where you will predict air quality through solving classification and regression tasks. You will submit a notebook file, a pdf report, and a trained model. You will be marked for implementation, design, result and analysis. Your code should be easy to read and your report should be concise (max 600 words). It is strongly recommended that you use a LaTeX editor, such as [Overleaf](https://www.overleaf.com/), to write your report.\n",
    "\n",
    "Please note your notebook should take no more than 10 minutes to run on lab computers. **There is 1 mark for code efficiency.**"
   ]
  },
  {
   "cell_type": "markdown",
   "metadata": {},
   "source": [
    "## 1. Dataset and Knowledge Preparation\n",
    "\n",
    "The provided dataset contains measurements of air quality from a multisensor device. The device used spectrometer analyzers (variables marked by \"GT\") and solid state metal oxide detectors (variables marked by \"PT08.Sx\"), as well as temperature (T), relative humidity (RH) and absolute humidity (AH) sensors. \n",
    "\n",
    "The dataset contains 3304 instances of hourly averaged measurements taken at road level in a polluted city. You will predict the CO(GT) variable representing carbon monoxide levels. There are missing features in this dataset, flagged by the number `-999`. \n",
    "\n",
    "You will need to pre-process the dataset to handle missing features, for which please self-learn from scikit-learn on how to [impute missing values](https://scikit-learn.org/stable/modules/impute.html). You will need to split the dataset into training and testing sets, also to run cross validation, when you see fit. For this, please self-learn from scikit-learn on [data splitting](https://scikit-learn.org/stable/modules/generated/sklearn.model_selection.train_test_split.html) and [cross validation](https://scikit-learn.org/stable/modules/cross_validation.html).   "
   ]
  },
  {
   "cell_type": "code",
   "execution_count": 13,
   "metadata": {},
   "outputs": [
    {
     "data": {
      "text/html": [
       "<div>\n",
       "<style scoped>\n",
       "    .dataframe tbody tr th:only-of-type {\n",
       "        vertical-align: middle;\n",
       "    }\n",
       "\n",
       "    .dataframe tbody tr th {\n",
       "        vertical-align: top;\n",
       "    }\n",
       "\n",
       "    .dataframe thead th {\n",
       "        text-align: right;\n",
       "    }\n",
       "</style>\n",
       "<table border=\"1\" class=\"dataframe\">\n",
       "  <thead>\n",
       "    <tr style=\"text-align: right;\">\n",
       "      <th></th>\n",
       "      <th>CO(GT)</th>\n",
       "      <th>PT08.S1(CO)</th>\n",
       "      <th>C6H6(GT)</th>\n",
       "      <th>PT08.S2(NMHC)</th>\n",
       "      <th>NOx(GT)</th>\n",
       "      <th>PT08.S3(NOx)</th>\n",
       "      <th>NO2(GT)</th>\n",
       "      <th>PT08.S4(NO2)</th>\n",
       "      <th>PT08.S5(O3)</th>\n",
       "      <th>T</th>\n",
       "      <th>RH</th>\n",
       "      <th>AH</th>\n",
       "    </tr>\n",
       "  </thead>\n",
       "  <tbody>\n",
       "    <tr>\n",
       "      <th>950</th>\n",
       "      <td>1.8</td>\n",
       "      <td>1050.25</td>\n",
       "      <td>9.215899</td>\n",
       "      <td>947.75</td>\n",
       "      <td>80.0</td>\n",
       "      <td>928.0</td>\n",
       "      <td>82.0</td>\n",
       "      <td>1583.75</td>\n",
       "      <td>651.50</td>\n",
       "      <td>26.125</td>\n",
       "      <td>30.275001</td>\n",
       "      <td>1.010149</td>\n",
       "    </tr>\n",
       "    <tr>\n",
       "      <th>3022</th>\n",
       "      <td>1.4</td>\n",
       "      <td>924.75</td>\n",
       "      <td>6.562784</td>\n",
       "      <td>837.50</td>\n",
       "      <td>210.0</td>\n",
       "      <td>949.0</td>\n",
       "      <td>83.0</td>\n",
       "      <td>1323.75</td>\n",
       "      <td>727.75</td>\n",
       "      <td>25.400</td>\n",
       "      <td>34.774999</td>\n",
       "      <td>1.111893</td>\n",
       "    </tr>\n",
       "    <tr>\n",
       "      <th>704</th>\n",
       "      <td>2.9</td>\n",
       "      <td>1166.25</td>\n",
       "      <td>10.956517</td>\n",
       "      <td>1012.75</td>\n",
       "      <td>451.0</td>\n",
       "      <td>643.0</td>\n",
       "      <td>90.0</td>\n",
       "      <td>1408.00</td>\n",
       "      <td>1143.75</td>\n",
       "      <td>12.125</td>\n",
       "      <td>79.425001</td>\n",
       "      <td>1.120146</td>\n",
       "    </tr>\n",
       "    <tr>\n",
       "      <th>1454</th>\n",
       "      <td>3.0</td>\n",
       "      <td>1280.00</td>\n",
       "      <td>14.854529</td>\n",
       "      <td>1144.00</td>\n",
       "      <td>481.0</td>\n",
       "      <td>554.5</td>\n",
       "      <td>144.0</td>\n",
       "      <td>1599.00</td>\n",
       "      <td>1623.50</td>\n",
       "      <td>16.425</td>\n",
       "      <td>72.074999</td>\n",
       "      <td>1.336037</td>\n",
       "    </tr>\n",
       "    <tr>\n",
       "      <th>1590</th>\n",
       "      <td>3.5</td>\n",
       "      <td>1408.25</td>\n",
       "      <td>18.036914</td>\n",
       "      <td>1240.50</td>\n",
       "      <td>250.0</td>\n",
       "      <td>647.5</td>\n",
       "      <td>135.0</td>\n",
       "      <td>1886.00</td>\n",
       "      <td>1711.25</td>\n",
       "      <td>18.600</td>\n",
       "      <td>47.800000</td>\n",
       "      <td>1.014324</td>\n",
       "    </tr>\n",
       "  </tbody>\n",
       "</table>\n",
       "</div>"
      ],
      "text/plain": [
       "      CO(GT)  PT08.S1(CO)   C6H6(GT)  PT08.S2(NMHC)  NOx(GT)  PT08.S3(NOx)  \\\n",
       "950      1.8      1050.25   9.215899         947.75     80.0         928.0   \n",
       "3022     1.4       924.75   6.562784         837.50    210.0         949.0   \n",
       "704      2.9      1166.25  10.956517        1012.75    451.0         643.0   \n",
       "1454     3.0      1280.00  14.854529        1144.00    481.0         554.5   \n",
       "1590     3.5      1408.25  18.036914        1240.50    250.0         647.5   \n",
       "\n",
       "      NO2(GT)  PT08.S4(NO2)  PT08.S5(O3)       T         RH        AH  \n",
       "950      82.0       1583.75       651.50  26.125  30.275001  1.010149  \n",
       "3022     83.0       1323.75       727.75  25.400  34.774999  1.111893  \n",
       "704      90.0       1408.00      1143.75  12.125  79.425001  1.120146  \n",
       "1454    144.0       1599.00      1623.50  16.425  72.074999  1.336037  \n",
       "1590    135.0       1886.00      1711.25  18.600  47.800000  1.014324  "
      ]
     },
     "execution_count": 13,
     "metadata": {},
     "output_type": "execute_result"
    }
   ],
   "source": [
    "import numpy as np\n",
    "import pandas as pd \n",
    "import matplotlib.pyplot as plt\n",
    "import time\n",
    "import sklearn.model_selection\n",
    "\n",
    "notebook_start_time = time.time()\n",
    "\n",
    "# Import data - it should be saved in the same root directory as this notebook\n",
    "sensor_data_full = pd.read_excel('sensor_data.xlsx')\n",
    "\n",
    "# Display a sample of the data\n",
    "sensor_data_full.sample(5)"
   ]
  },
  {
   "cell_type": "code",
   "execution_count": 14,
   "metadata": {},
   "outputs": [
    {
     "data": {
      "text/html": [
       "<div>\n",
       "<style scoped>\n",
       "    .dataframe tbody tr th:only-of-type {\n",
       "        vertical-align: middle;\n",
       "    }\n",
       "\n",
       "    .dataframe tbody tr th {\n",
       "        vertical-align: top;\n",
       "    }\n",
       "\n",
       "    .dataframe thead th {\n",
       "        text-align: right;\n",
       "    }\n",
       "</style>\n",
       "<table border=\"1\" class=\"dataframe\">\n",
       "  <thead>\n",
       "    <tr style=\"text-align: right;\">\n",
       "      <th></th>\n",
       "      <th>T</th>\n",
       "      <th>RH</th>\n",
       "      <th>AH</th>\n",
       "      <th>PT08.S1(CO)</th>\n",
       "      <th>PT08.S2(NMHC)</th>\n",
       "      <th>PT08.S3(NOx)</th>\n",
       "      <th>PT08.S4(NO2)</th>\n",
       "      <th>PT08.S5(O3)</th>\n",
       "      <th>CO(GT)</th>\n",
       "    </tr>\n",
       "  </thead>\n",
       "  <tbody>\n",
       "    <tr>\n",
       "      <th>1256</th>\n",
       "      <td>31.750</td>\n",
       "      <td>34.500</td>\n",
       "      <td>1.591128</td>\n",
       "      <td>1080.25</td>\n",
       "      <td>1003.50</td>\n",
       "      <td>724.25</td>\n",
       "      <td>1704.00</td>\n",
       "      <td>898.75</td>\n",
       "      <td>1.8</td>\n",
       "    </tr>\n",
       "    <tr>\n",
       "      <th>2790</th>\n",
       "      <td>10.425</td>\n",
       "      <td>24.675</td>\n",
       "      <td>0.311635</td>\n",
       "      <td>1414.25</td>\n",
       "      <td>1489.75</td>\n",
       "      <td>488.00</td>\n",
       "      <td>1433.25</td>\n",
       "      <td>2050.75</td>\n",
       "      <td>6.1</td>\n",
       "    </tr>\n",
       "    <tr>\n",
       "      <th>2956</th>\n",
       "      <td>6.500</td>\n",
       "      <td>32.400</td>\n",
       "      <td>0.315537</td>\n",
       "      <td>906.00</td>\n",
       "      <td>768.50</td>\n",
       "      <td>913.25</td>\n",
       "      <td>864.75</td>\n",
       "      <td>725.50</td>\n",
       "      <td>1.5</td>\n",
       "    </tr>\n",
       "    <tr>\n",
       "      <th>698</th>\n",
       "      <td>21.475</td>\n",
       "      <td>57.950</td>\n",
       "      <td>1.465827</td>\n",
       "      <td>942.00</td>\n",
       "      <td>779.75</td>\n",
       "      <td>914.50</td>\n",
       "      <td>1418.75</td>\n",
       "      <td>737.25</td>\n",
       "      <td>0.9</td>\n",
       "    </tr>\n",
       "    <tr>\n",
       "      <th>893</th>\n",
       "      <td>21.075</td>\n",
       "      <td>44.475</td>\n",
       "      <td>1.098049</td>\n",
       "      <td>811.75</td>\n",
       "      <td>663.75</td>\n",
       "      <td>1211.50</td>\n",
       "      <td>1214.50</td>\n",
       "      <td>518.00</td>\n",
       "      <td>0.7</td>\n",
       "    </tr>\n",
       "  </tbody>\n",
       "</table>\n",
       "</div>"
      ],
      "text/plain": [
       "           T      RH        AH  PT08.S1(CO)  PT08.S2(NMHC)  PT08.S3(NOx)  \\\n",
       "1256  31.750  34.500  1.591128      1080.25        1003.50        724.25   \n",
       "2790  10.425  24.675  0.311635      1414.25        1489.75        488.00   \n",
       "2956   6.500  32.400  0.315537       906.00         768.50        913.25   \n",
       "698   21.475  57.950  1.465827       942.00         779.75        914.50   \n",
       "893   21.075  44.475  1.098049       811.75         663.75       1211.50   \n",
       "\n",
       "      PT08.S4(NO2)  PT08.S5(O3)  CO(GT)  \n",
       "1256       1704.00       898.75     1.8  \n",
       "2790       1433.25      2050.75     6.1  \n",
       "2956        864.75       725.50     1.5  \n",
       "698        1418.75       737.25     0.9  \n",
       "893        1214.50       518.00     0.7  "
      ]
     },
     "execution_count": 14,
     "metadata": {},
     "output_type": "execute_result"
    }
   ],
   "source": [
    "from sklearn.experimental import enable_iterative_imputer\n",
    "from sklearn.impute import IterativeImputer\n",
    "from sklearn.model_selection import train_test_split\n",
    "\n",
    "imp = IterativeImputer(max_iter=10, random_state=0, missing_values=-999)\n",
    "sensor_data_impute = pd.DataFrame(imp.fit_transform(sensor_data_full), columns=sensor_data_full.columns)\n",
    "\n",
    "# Features (X) - excluding the target variable\n",
    "X = sensor_data_impute[['T', 'RH', 'AH', 'PT08.S1(CO)', 'PT08.S2(NMHC)', 'PT08.S3(NOx)', 'PT08.S4(NO2)', 'PT08.S5(O3)', 'CO(GT)']]\n",
    "\n",
    "# Target variable (y) - carbon monoxide levels\n",
    "y = sensor_data_impute['CO(GT)']\n",
    "\n",
    "# Split the data into training and testing sets\n",
    "X_train, X_test, y_train, y_test = train_test_split(X, y, test_size=0.2, random_state=42)\n",
    "\n",
    "X_train.sample(5)"
   ]
  },
  {
   "cell_type": "code",
   "execution_count": null,
   "metadata": {},
   "outputs": [],
   "source": []
  },
  {
   "cell_type": "markdown",
   "metadata": {},
   "source": [
    "## 2. Linear Classification via Gradient Descent (13 marks)\n",
    "\n",
    "The air quality is assessed using the CO(GT) variable. If it is no greater than 4.5, the air quality is good (CO(GT)<=4.5), otherwise, it is bad  (CO(GT)>4.5). You will perform binary classification to predict whether the air quality is good based on the other 11 varivables, i.e., from PT08.S1(CO) to AH. \n",
    "\n",
    "### 2.1 Model Training and Testing (4 marks)\n",
    "\n",
    "This practice is about training a binary linear classifier by minimising a hinge loss with L2 (ridge) regularisation, and then testing its performance. Given a set of $N$ training samples $\\{(\\mathbf{x}_i, y_i)\\}_{i=1}^N$, where $\\mathbf{x}_i$ is the feature vector and $y_i \\in \\{-1, +1\\}$ is the class label for the $i$-th training sample, the training objective function to minimise is \n",
    "$$O = C \\sum^N_{i=1}\\max\\left(0, 1 - y_i \\left(\\mathbf{w}^T\\mathbf{x}_i + w_0\\right)\\right) + \\frac{1}{2}\\mathbf{w}^T\\mathbf{w}. $$\n",
    "Here, $\\mathbf{w}$ is a column weight vector of the linear model, $w_0$ is the bias parameter of the model, and $C$ is the regularisation hyperparameter.\n",
    "\n",
    "Recall from your lectures that gradient descent is an iterative optimisation algorithm typically used in model training. Complete the implmentation of the training function `linear_gd_train` below, which trains your linear model by minimising the above provided training objective function $O$ using gradient descent.\n",
    "\n",
    "The function should return the trained model weights and the corresponding objective function value (referred to as cost) per iteration. In addition to the training data, the function should take the regularisation hyperparameter $C$, learning rate $\\eta$, and the number of iterations $N_{max}$ as arguments. A default setting of these parameters has been provided below, which is able to provide reasonably good performance.  \n",
    "\n",
    "**Note that scikit-learn is not allowed for implementation in this section.** We recommend that you avoid using `for` loops in your implementation of the objective function or weight update, and instead use built-in numpy operations for efficiency. "
   ]
  },
  {
   "cell_type": "code",
   "execution_count": 48,
   "metadata": {},
   "outputs": [],
   "source": [
    "def linear_gd_train(\n",
    "    data,\n",
    "    labels,\n",
    "    c=0.2,\n",
    "    n_iters=200,\n",
    "    learning_rate=0.001,\n",
    "    random_state=None,  # Add any other arguments here if needed\n",
    "):\n",
    "    \"\"\"\n",
    "    A summary of your function goes here.\n",
    "\n",
    "    data: training data\n",
    "    labels: training labels (boolean)\n",
    "    c: regularisation parameter\n",
    "    n_iters: number of iterations\n",
    "    learning_rate: learning rate for gradient descent\n",
    "\n",
    "    Returns an array of cost and model weights per iteration.\n",
    "    \"\"\"\n",
    "    # Set random seed for reproducibility if using random initialisation of weights (optional)\n",
    "    rng = np.random.default_rng(seed=random_state)\n",
    "\n",
    "    # Create design matrix and labels\n",
    "    X_tilde = np.concatenate((np.ones((data.shape[0], 1)), data), axis=1)\n",
    "    y = labels * 2 - 1\n",
    "\n",
    "    # Weight initialisation: use e.g. rng.standard_normal() or all zeros\n",
    "    w = np.zeros(X_tilde.shape[1])\n",
    "\n",
    "    # Initialise arrays to store weights and cost at each iteration\n",
    "    w_all = np.zeros((n_iters, w.shape[0]))\n",
    "    cost_all = np.zeros(n_iters)\n",
    "\n",
    "    # GD update of weights\n",
    "    for i in range(n_iters):\n",
    "        # Cost and gradient update of the linear model\n",
    "        cost = c * np.sum(np.maximum(0, 1 - y * np.dot(X_tilde, w))) + 0.5 * np.dot(w.T, w)\n",
    "        grad = -c * np.dot(X_tilde.T, (y * (np.maximum(0, (1 - y * np.dot(X_tilde, w))) > 0))) + w\n",
    "\t\t\n",
    "        # Weight update\n",
    "        w -= learning_rate * grad\n",
    "\n",
    "        # save w and cost of each iteration in w_all and cost_all\n",
    "        w_all[i], cost_all[i] = w, cost\n",
    "\n",
    "    # Return model parameters.\n",
    "    return cost_all, w_all\n",
    "\n",
    "\n",
    "def linear_predict(data, w):\n",
    "    \"\"\"\n",
    "    A summary of your function goes here.\n",
    "\n",
    "    data: test data\n",
    "    w: model weights\n",
    "\n",
    "    Returns the predicted labels.\n",
    "    \"\"\"\n",
    "\n",
    "    X_tilde = np.concatenate((np.ones((data.shape[0], 1)), data), axis=1)\n",
    "    y_pred = np.dot(X_tilde, w) > 0 \n",
    "\n",
    "    return y_pred \n"
   ]
  },
  {
   "cell_type": "markdown",
   "metadata": {},
   "source": [
    "Now, you are ready to conduct a complete experiment of air quality classification. The provided code below splits the data into training and testing sets and imputes the missing features. "
   ]
  },
  {
   "cell_type": "code",
   "execution_count": 40,
   "metadata": {},
   "outputs": [],
   "source": [
    "from sklearn.impute import SimpleImputer\n",
    "\n",
    "# Put a threshold on the labels to cast to binary: True if CO(GT) > 4.5, False otherwise\n",
    "binary_targets = (sensor_data_full['CO(GT)'] > 4.5).to_numpy()\n",
    "sensor_data = sensor_data_full.drop(columns=['CO(GT)']).to_numpy()\n",
    "\n",
    "# Named _cls to keep our classification experiments distinct from regression\n",
    "train_X_cls, test_X_cls, train_y_cls, test_y_cls = sklearn.model_selection.train_test_split(sensor_data, binary_targets, test_size=0.15, stratify=binary_targets)\n",
    "\n",
    "# Impute missing values and standardise the data\n",
    "imputer = SimpleImputer(missing_values=-999, strategy='mean')\n",
    "scaler = sklearn.preprocessing.StandardScaler()\n",
    "\n",
    "train_X_cls = imputer.fit_transform(train_X_cls)\n",
    "train_X_cls = scaler.fit_transform(train_X_cls)"
   ]
  },
  {
   "cell_type": "markdown",
   "metadata": {},
   "source": [
    "Write your code below, which should train the model, plot the training objective function value and the classification accuracy of the training set over iterations, and print the classification accuracy and $F_1$ score of the testing set. Note, use the default setting provided for $C$, $\\eta$ and $N_{max}$. Your plot should have axis labels and titles."
   ]
  },
  {
   "cell_type": "code",
   "execution_count": 51,
   "metadata": {},
   "outputs": [
    {
     "data": {
      "image/png": "[encoded data removed]",
      "text/plain": [
       "<Figure size 640x480 with 2 Axes>"
      ]
     },
     "metadata": {},
     "output_type": "display_data"
    },
    {
     "name": "stdout",
     "output_type": "stream",
     "text": [
      "[-2.60288975  0.3473792   0.79267001  0.00393432  0.29581968  0.44690978\n",
      "  0.30975408  0.34118523 -0.16976928 -0.17155012 -0.0555986   0.05248173]\n",
      "Test Set Accuracy: 0.06854838709677419\n",
      "Test Set F1 Score: 0.12830188679245283\n"
     ]
    }
   ],
   "source": [
    "from sklearn.metrics import accuracy_score, f1_score\n",
    "\n",
    "# Train the model\n",
    "cost_all, w_all = linear_gd_train(train_X_cls, train_y_cls)\n",
    "\n",
    "# Plot accuracy and cost per iteration on training set\n",
    "fig, ax1 = plt.subplots()\n",
    "\n",
    "color = 'tab:red'\n",
    "ax1.set_xlabel('Iteration')\n",
    "ax1.set_ylabel('Cost', color=color)\n",
    "ax1.plot(np.arange(len(cost_all)), cost_all, color=color)\n",
    "ax1.tick_params(axis='y', labelcolor=color)\n",
    "\n",
    "ax2 = ax1.twinx()\n",
    "color = 'tab:blue'\n",
    "ax2.set_ylabel('Accuracy', color=color)\n",
    "accuracy_per_iteration = [accuracy_score(train_y_cls, linear_predict(train_X_cls, w)) for w in w_all]\n",
    "ax2.plot(np.arange(len(accuracy_per_iteration)), accuracy_per_iteration, color=color)\n",
    "ax2.tick_params(axis='y', labelcolor=color)\n",
    "\n",
    "fig.tight_layout()\n",
    "plt.title('Training Progress')\n",
    "plt.show()\n",
    "\n",
    "# Apply imputation to the test set\n",
    "test_X_cls_imputed = imputer.transform(test_X_cls)\n",
    "\n",
    "# Predict on test set\n",
    "test_y_pred = linear_predict(test_X_cls_imputed, w_all[-1])  # Use the final weights from training\n",
    "\n",
    "# Report accuracy and f1 score\n",
    "accuracy = accuracy_score(test_y_cls, test_y_pred)\n",
    "f1 = f1_score(test_y_cls, test_y_pred)\n",
    "\n",
    "print(\"Test Set Accuracy:\", accuracy)\n",
    "print(\"Test Set F1 Score:\", f1)"
   ]
  },
  {
   "cell_type": "markdown",
   "metadata": {},
   "source": [
    "### 2.2 Learning Rate Analysis (3 marks)\n",
    "\n",
    "The learning rate $\\eta$ (Greek letter \"eta\") is a key parameter that affects the model training and performance. Design an appropriate experiment to demonstrate the effect of $\\eta$ on model training, and on the model performance during testing."
   ]
  },
  {
   "cell_type": "code",
   "execution_count": null,
   "metadata": {},
   "outputs": [],
   "source": [
    "# Your code here"
   ]
  },
  {
   "cell_type": "markdown",
   "metadata": {},
   "source": [
    "### 2.3 Report (6 Marks)\n",
    "Answer the following questions in your report, to be submitted separately:\n",
    "1. Derive step-by-step the gradient of the provided training objective function $O$, and the updating equation of your model weights based on gradient descent. (3 marks)\n",
    "\n",
    "2. What does the figure from section 2.1 tell you, and what is the indication of the classification accuracies of your training and testing sets? (1 mark)\n",
    "\n",
    "3. Comment on the effect of $\\eta$ on model training, and on the model performance during testing, based on your results observed in Section 2.2. (2 marks)"
   ]
  },
  {
   "cell_type": "markdown",
   "metadata": {},
   "source": [
    "## 3. Air Quality Analysis by Neural Network (10 marks)\n",
    "\n",
    "In this experiment, you will predict the CO(GT) value based on the other 11 variables through regression. You will use a neural network to build a nonlinear regression model. Familiarise yourself with how to build a regression model by mutlilayer perceptron (MLP) using the scikit learn tutorial (https://scikit-learn.org/stable/modules/neural_networks_supervised.html#regression). \n",
    "\n",
    "\n",
    "### 3.1 Simple MLP Model Selection (4 marks)\n",
    "\n",
    "This section is focused on the practical aspects of MLP implementation and model selection. We will first compare some model architectures. \n",
    "\n",
    "The set of MLP architectures to select is specified in `param_grid` below, including two MLPs with one hidden layer, where one has a small number of 3 hidden neurons, while the other has a larger number of 100 hidden neurons, and two MLPs with two hidden layers, where one is small (3, 3) and the other is larger (100, 100). It also includes two activation function options, i.e., the logistic and the rectified linear unit (\"relu\").  These result in a total of 8 model options, where sklearn default parameters are used for all the MLPs and their training. "
   ]
  },
  {
   "cell_type": "code",
   "execution_count": null,
   "metadata": {},
   "outputs": [],
   "source": [
    "from sklearn.neural_network import MLPRegressor\n",
    "from sklearn.model_selection import GridSearchCV\n",
    "\n",
    "param_grid = [\n",
    "    {   \n",
    "        'hidden_layer_sizes': [(3,), (100,), (3, 3), (100, 100)],\n",
    "        'activation': ['relu', 'logistic'],\n",
    "    },\n",
    "]"
   ]
  },
  {
   "cell_type": "markdown",
   "metadata": {},
   "source": [
    "Your code below should do the following: Split the dataset into the training and testing sets. Preprocess the data by imputing the missing features. Use the training set for model selection by cross-validation, and use mean squared error (MSE) as the model selection performance metric. You can use the scikit-learn module [GridSearchCV](https://scikit-learn.org/stable/modules/grid_search.html#grid-search) to conduct grid search. Print the cross-validation MSE with standard deviation of the selected model. Re-train the selected model using the whole training set, and print its MSE and $R^2$ score for the testing set.  \n"
   ]
  },
  {
   "cell_type": "code",
   "execution_count": null,
   "metadata": {},
   "outputs": [],
   "source": [
    "# Redo split for regression\n",
    "\n",
    "\n",
    "# Prepare the data\n",
    "\n",
    "\n",
    "# Define MLP model\n",
    "\n",
    "\n",
    "# Initialise and fit the grid search\n",
    "\n",
    "\n",
    "# Report the best parameters and the CV results\n",
    "\n",
    "\n",
    "# Report model performance\n",
    "\n"
   ]
  },
  {
   "cell_type": "markdown",
   "metadata": {},
   "source": [
    "### 3.2 Training Algorithm Comparison: SGD and ADAM (2 Marks)\n",
    "\n",
    "In this exercise, you will compare two training algorithms, stochastic gradient descent (SGD) and ADAM optimisation, for training an MLP with two hidden layers each containing 100 neurons with \"relu\" activation, under the settings specified in `test_params` as below."
   ]
  },
  {
   "cell_type": "code",
   "execution_count": null,
   "metadata": {},
   "outputs": [],
   "source": [
    "test_params = [\n",
    "    {\n",
    "        'activation': 'relu', \n",
    "        'alpha': 0.001, \n",
    "        'early_stopping': False, \n",
    "        'hidden_layer_sizes': (100, 100), \n",
    "        'solver': 'adam'\n",
    "    },{\n",
    "        'activation': 'relu', \n",
    "        'alpha': 0.001, \n",
    "        'early_stopping': False, \n",
    "        'hidden_layer_sizes': (100, 100), \n",
    "        'learning_rate': 'adaptive', \n",
    "        'momentum': 0.95, \n",
    "        'solver': 'sgd'\n",
    "    },\n",
    "]"
   ]
  },
  {
   "cell_type": "markdown",
   "metadata": {},
   "source": [
    "Write the code below, where each training algorithm should run for 300 iterations (make sure to set `early_stopping=False`). For both algorithms, (1) plot the training loss (use the defaul loss setting in sklearn), as well as the MSE of both training and testing sets, over iterations; and (2) print the MSE and $R^2$ score of the trained model using the testing set. "
   ]
  },
  {
   "cell_type": "code",
   "execution_count": null,
   "metadata": {},
   "outputs": [],
   "source": [
    "# Train models and plot learning curves\n",
    "\n",
    "\n",
    "# Print final test set performance for both models\n"
   ]
  },
  {
   "cell_type": "markdown",
   "metadata": {},
   "source": [
    "### 3.3 Report (4 Marks)\n",
    "Answer the following questions in your report, to be submitted separately:\n",
    "1. What conclusions can you draw based on your model selection results in Section 3.1? (2 marks)\n",
    "\n",
    "2. Comment on the two training algorithms based on your results obtained in Section 3.2. (2 marks)"
   ]
  },
  {
   "cell_type": "markdown",
   "metadata": {},
   "source": [
    "## 4.  Build A Robust MLP Regressor (6 Marks)\n",
    "\n",
    "In this last experiment, you will develop and submit a robust MLP regressor to predict the CO(GT) value based on the other 11 variables, using the provided dataset. This robust regressor should account for the presence of missing and noisy features. \n",
    "\n",
    "Once you have developed your model, save it to a file using the provided `save_model` function for submission.\n",
    "\n",
    "### 4.1 Model Development (3 Marks)\n",
    "\n",
    "What you consider in model development should include (but not limited to) (1) handling of missing features in the unseen testing data, (2) handling of noisy features in the unseen testing data, and (3) a model selection practice.\n",
    "\n",
    "Write your model development code below. Describe briefly in your report what you have considered in your model development.\n"
   ]
  },
  {
   "cell_type": "raw",
   "metadata": {},
   "source": [
    "### OPTIONAL: move completed model selection code to this 'raw' cell below before final submission \n",
    "# You can run your code once to select the best hyperparameters and train your model, then\n",
    "# move the code to this cell for submission. This prevents it from executing automatically and so\n",
    "# excludes time-consuming hyperparameter selection from total notebook run time during marking."
   ]
  },
  {
   "cell_type": "code",
   "execution_count": null,
   "metadata": {},
   "outputs": [],
   "source": []
  },
  {
   "cell_type": "markdown",
   "metadata": {},
   "source": [
    "## 4.2 External Testing (3 Marks)\n",
    "Save your trained model for submission, and submit it along with your notebook and report. It will be run and evaluated on a test set unseen by you.\n",
    "\n",
    "**Important: set your university username (e.g. mbxxabc3) below when saving your model.** Failure to do this correctly would lead to your model not being marked!"
   ]
  },
  {
   "cell_type": "code",
   "execution_count": null,
   "metadata": {},
   "outputs": [],
   "source": [
    "import model_eval_utils\n",
    "\n",
    "#### SAVE YOUR MODEL\n",
    "student_username = \"mbxxxxx0\" # SET YOUR USERNAME HERE\n",
    "model = ... # SET YOUR MODEL HERE\n",
    "model_eval_utils.save_model(student_username, model)"
   ]
  },
  {
   "cell_type": "code",
   "execution_count": null,
   "metadata": {},
   "outputs": [
    {
     "name": "stdout",
     "output_type": "stream",
     "text": [
      "Total notebook run time: 5 seconds\n"
     ]
    }
   ],
   "source": [
    "print(f\"Total notebook run time: {time.time() - notebook_start_time:.0f} seconds\")"
   ]
  },
  {
   "cell_type": "markdown",
   "metadata": {},
   "source": [
    "### Option to test your saved model\n",
    "Use the `run_model()` function to make sure your saved model can be loaded and run before submitting.\n",
    "\n",
    "Please note the score returned by `run_model()` is not in any way indicative of your final mark. This is just a simple test to make sure your model can be loaded and run. When testing your model, the GTA will run your model following the practice below, but replacing the bunk_data with the testing data."
   ]
  },
  {
   "cell_type": "code",
   "execution_count": null,
   "metadata": {},
   "outputs": [
    {
     "name": "stdout",
     "output_type": "stream",
     "text": [
      "Attempting to load from ....\n",
      "Loaded ./mbxxxxx0.sav model.\n",
      "Could not score model. Attempting predictions...\n",
      "Model failed to predict.\n"
     ]
    }
   ],
   "source": [
    "# some bunk data\n",
    "bunk_data = np.array([[ 1.22400000e+03,  9.97440117e+00,\n",
    "        9.76666667e+02,  2.50600000e+02,  5.71333333e+02,\n",
    "        1.30700000e+02,  1.42433333e+03,  1.00166667e+03,\n",
    "        2.32666664e+01,  3.57999992e+01,  1.00855762e+00],\n",
    "    [ 9.24250000e+02,   3.97337806e+00,\n",
    "        7.09250000e+02,  6.30000000e+01,  1.15800000e+03,\n",
    "        7.50000000e+01,  1.31800000e+03,  6.09750000e+02,\n",
    "        1.60500000e+01,  4.13500004e+01,  7.48680717e-01],\n",
    "    [ 8.92000000e+02,  5.06611560e+00,\n",
    "        7.66750000e+02,  7.10000000e+01,  1.18000000e+03,\n",
    "        8.40000000e+01,  1.46600000e+03,  6.56750000e+02,\n",
    "        1.79749999e+01,  5.14499998e+01,  1.05039283e+00]])\n",
    "bunk_labels = np.array([2. , 1.3, 6.1])\n",
    "\n",
    "score = model_eval_utils.run_model(student_username, \n",
    "                                test_data=bunk_data, \n",
    "                                test_labels=bunk_labels, \n",
    "                                model_folder=\".\")"
   ]
  }
 ],
 "metadata": {
  "kernelspec": {
   "display_name": "Python 3 (ipykernel)",
   "language": "python",
   "name": "python3"
  },
  "language_info": {
   "codemirror_mode": {
    "name": "ipython",
    "version": 3
   },
   "file_extension": ".py",
   "mimetype": "text/x-python",
   "name": "python",
   "nbconvert_exporter": "python",
   "pygments_lexer": "ipython3",
   "version": "3.12.3"
  }
 },
 "nbformat": 4,
 "nbformat_minor": 2
}
